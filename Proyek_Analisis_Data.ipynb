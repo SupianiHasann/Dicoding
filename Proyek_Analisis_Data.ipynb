{
  "nbformat": 4,
  "nbformat_minor": 0,
  "metadata": {
    "colab": {
      "provenance": [],
      "authorship_tag": "ABX9TyPnDUACFgQBYTzDrlZ90enl",
      "include_colab_link": true
    },
    "kernelspec": {
      "name": "python3",
      "display_name": "Python 3"
    },
    "language_info": {
      "name": "python"
    }
  },
  "cells": [
    {
      "cell_type": "markdown",
      "metadata": {
        "id": "view-in-github",
        "colab_type": "text"
      },
      "source": [
        "<a href=\"https://colab.research.google.com/github/SupianiHasann/Dicoding/blob/main/Proyek_Analisis_Data.ipynb\" target=\"_parent\"><img src=\"https://colab.research.google.com/assets/colab-badge.svg\" alt=\"Open In Colab\"/></a>"
      ]
    },
    {
      "cell_type": "code",
      "execution_count": null,
      "metadata": {
        "id": "6CDIy0lI2bUa"
      },
      "outputs": [],
      "source": [
        "import numpy as np\n",
        "import pandas as pd\n",
        "import matplotlib.pyplot as plt\n",
        "import seaborn as sns\n",
        "\n",
        "# Load 5 row Table Customers\n",
        "customers_df = pd.read_csv(\"https://raw.githubusercontent.com/dicodingacademy/dicoding_dataset/main/DicodingCollection/customers.csv\")\n",
        "customers_df.head()\n",
        "\n",
        "# Load 5 row Table Orders\n",
        "orders_df = pd.read_csv(\"https://raw.githubusercontent.com/dicodingacademy/dicoding_dataset/main/DicodingCollection/orders.csv\")\n",
        "orders_df.head()\n",
        "\n",
        "# Load 5 row Table Product\n",
        "product_df = pd.read_csv(\"https://raw.githubusercontent.com/dicodingacademy/dicoding_dataset/main/DicodingCollection/products.csv\")\n",
        "product_df.head()\n",
        "\n",
        "# Load 5 row Table Sales\n",
        "sales_df = pd.read_csv(\"https://raw.githubusercontent.com/dicodingacademy/dicoding_dataset/main/DicodingCollection/sales.csv\")\n",
        "sales_df.head()\n",
        "\n",
        "# Check information from customers table\n",
        "customers_df.info()\n",
        "\n",
        "# Sum of Missing value from customers table\n",
        "customers_df.isna().sum()\n",
        "\n",
        "# Check Duplicate data from customers table\n",
        "print(\"Jumlah duplikasi: \", customers_df.duplicated().sum())\n",
        "\n",
        "# Parameter Statistics from customers table\n",
        "customers_df.describe()\n",
        "\n",
        "# Check information from orders table\n",
        "orders_df.info()\n",
        "\n",
        "# Check duplicate data and statistics from orders table\n",
        "print(\"Jumlah duplikasi: \", orders_df.duplicated().sum())\n",
        "orders_df.describe()\n",
        "\n",
        "# Check information from product table\n",
        "product_df.info()\n",
        "\n",
        "# Check duplicate data and statistics from product table\n",
        "print(\"Jumlah duplikasi: \", product_df.duplicated().sum())\n",
        "product_df.describe()\n",
        "\n",
        "# Check information from sales table\n",
        "sales_df.info()\n",
        "\n",
        "# Sum of Missing value from sales table\n",
        "sales_df.isna().sum()\n",
        "\n",
        "# Check duplicate data and statistics from sales table\n",
        "print(\"Jumlah duplikasi: \", sales_df.duplicated().sum())\n",
        "sales_df.describe()\n",
        "\n",
        "\n",
        "\n",
        "\n",
        "\n",
        "\n"
      ]
    }
  ]
}